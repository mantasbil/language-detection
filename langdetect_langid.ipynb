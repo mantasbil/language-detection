{
 "cells": [
  {
   "cell_type": "markdown",
   "id": "88c15a14",
   "metadata": {},
   "source": [
    "# Language detection project\n",
    "\n",
    "The aim of this project is to predict in what language the given text is written. For this reason a dataset with text data was chosen from [Kaggle](https://www.kaggle.com/code/martinkk5575/language-detection/input?fbclid=IwY2xjawGpzplleHRuA2FlbQIxMAABHVMGzCcvVVvOC15te-Xpy57EbrIjXjE2qR0IjOcuz1vnnfOkQBCzaHAyIw_aem_JEXACTp_kfxcu-SR83l6qQ).\n",
    "Only a sample of this dataset were the given text was written in English, Estonian, Portuguese, Spanish and Turkish languages was chosen.\n",
    "\n",
    "Two packages consisting pretrained language detection models were compared - Langdetect and LangID."
   ]
  },
  {
   "cell_type": "code",
   "execution_count": 1,
   "id": "68a09a85",
   "metadata": {},
   "outputs": [],
   "source": [
    "import pandas as pd\n",
    "import numpy as np\n",
    "import matplotlib.pyplot as plt\n",
    "import seaborn as sns"
   ]
  },
  {
   "cell_type": "code",
   "execution_count": 2,
   "id": "e38ecff8",
   "metadata": {},
   "outputs": [
    {
     "data": {
      "text/html": [
       "<div>\n",
       "<style scoped>\n",
       "    .dataframe tbody tr th:only-of-type {\n",
       "        vertical-align: middle;\n",
       "    }\n",
       "\n",
       "    .dataframe tbody tr th {\n",
       "        vertical-align: top;\n",
       "    }\n",
       "\n",
       "    .dataframe thead th {\n",
       "        text-align: right;\n",
       "    }\n",
       "</style>\n",
       "<table border=\"1\" class=\"dataframe\">\n",
       "  <thead>\n",
       "    <tr style=\"text-align: right;\">\n",
       "      <th></th>\n",
       "      <th>Text</th>\n",
       "      <th>language</th>\n",
       "    </tr>\n",
       "  </thead>\n",
       "  <tbody>\n",
       "    <tr>\n",
       "      <th>0</th>\n",
       "      <td>in the mid-s the school district was sued for ...</td>\n",
       "      <td>English</td>\n",
       "    </tr>\n",
       "    <tr>\n",
       "      <th>1</th>\n",
       "      <td>in  tom hamilton also began playing with joe r...</td>\n",
       "      <td>English</td>\n",
       "    </tr>\n",
       "    <tr>\n",
       "      <th>2</th>\n",
       "      <td>in the early s he evolved his psychedelic rock...</td>\n",
       "      <td>English</td>\n",
       "    </tr>\n",
       "    <tr>\n",
       "      <th>3</th>\n",
       "      <td>ağustos  tarihinde orta öğretim genel müdürlü...</td>\n",
       "      <td>Turkish</td>\n",
       "    </tr>\n",
       "    <tr>\n",
       "      <th>4</th>\n",
       "      <td>sharon isbin comenzó sus estudios a los nueve ...</td>\n",
       "      <td>Spanish</td>\n",
       "    </tr>\n",
       "  </tbody>\n",
       "</table>\n",
       "</div>"
      ],
      "text/plain": [
       "                                                Text language\n",
       "0  in the mid-s the school district was sued for ...  English\n",
       "1  in  tom hamilton also began playing with joe r...  English\n",
       "2  in the early s he evolved his psychedelic rock...  English\n",
       "3   ağustos  tarihinde orta öğretim genel müdürlü...  Turkish\n",
       "4  sharon isbin comenzó sus estudios a los nueve ...  Spanish"
      ]
     },
     "execution_count": 2,
     "metadata": {},
     "output_type": "execute_result"
    }
   ],
   "source": [
    "df = pd.read_csv('test_data.csv', encoding='utf-8')\n",
    "df.head()"
   ]
  },
  {
   "cell_type": "code",
   "execution_count": 3,
   "id": "8474137a",
   "metadata": {},
   "outputs": [
    {
     "data": {
      "text/plain": [
       "Portugese    214\n",
       "English      205\n",
       "Spanish      201\n",
       "Estonian     192\n",
       "Turkish      188\n",
       "Name: language, dtype: int64"
      ]
     },
     "execution_count": 3,
     "metadata": {},
     "output_type": "execute_result"
    }
   ],
   "source": [
    "df['language'].value_counts()"
   ]
  },
  {
   "cell_type": "markdown",
   "id": "76fddc16",
   "metadata": {},
   "source": [
    "The number of records in each language is close to each other."
   ]
  },
  {
   "cell_type": "code",
   "execution_count": 4,
   "id": "d205e6e2",
   "metadata": {},
   "outputs": [],
   "source": [
    "from langdetect import detect\n",
    "from langdetect import DetectorFactory\n",
    "\n",
    "def detect_language(text):\n",
    "    \"\"\"\n",
    "    Input: any text.\n",
    "    Output: predicted language of input text. Predictions are done using langdetect library.\n",
    "    \"\"\"\n",
    "    DetectorFactory.seed = 0\n",
    "    try:\n",
    "        language = detect(text)\n",
    "        return language\n",
    "    except Exception as e:\n",
    "        print('An error occured: ', e)\n",
    "        return None"
   ]
  },
  {
   "cell_type": "code",
   "execution_count": 5,
   "id": "b4ebb12e",
   "metadata": {},
   "outputs": [
    {
     "data": {
      "text/html": [
       "<div>\n",
       "<style scoped>\n",
       "    .dataframe tbody tr th:only-of-type {\n",
       "        vertical-align: middle;\n",
       "    }\n",
       "\n",
       "    .dataframe tbody tr th {\n",
       "        vertical-align: top;\n",
       "    }\n",
       "\n",
       "    .dataframe thead th {\n",
       "        text-align: right;\n",
       "    }\n",
       "</style>\n",
       "<table border=\"1\" class=\"dataframe\">\n",
       "  <thead>\n",
       "    <tr style=\"text-align: right;\">\n",
       "      <th></th>\n",
       "      <th>Text</th>\n",
       "      <th>language</th>\n",
       "      <th>predicted_language_code</th>\n",
       "    </tr>\n",
       "  </thead>\n",
       "  <tbody>\n",
       "    <tr>\n",
       "      <th>0</th>\n",
       "      <td>in the mid-s the school district was sued for ...</td>\n",
       "      <td>English</td>\n",
       "      <td>en</td>\n",
       "    </tr>\n",
       "    <tr>\n",
       "      <th>1</th>\n",
       "      <td>in  tom hamilton also began playing with joe r...</td>\n",
       "      <td>English</td>\n",
       "      <td>en</td>\n",
       "    </tr>\n",
       "    <tr>\n",
       "      <th>2</th>\n",
       "      <td>in the early s he evolved his psychedelic rock...</td>\n",
       "      <td>English</td>\n",
       "      <td>en</td>\n",
       "    </tr>\n",
       "    <tr>\n",
       "      <th>3</th>\n",
       "      <td>ağustos  tarihinde orta öğretim genel müdürlü...</td>\n",
       "      <td>Turkish</td>\n",
       "      <td>tr</td>\n",
       "    </tr>\n",
       "    <tr>\n",
       "      <th>4</th>\n",
       "      <td>sharon isbin comenzó sus estudios a los nueve ...</td>\n",
       "      <td>Spanish</td>\n",
       "      <td>es</td>\n",
       "    </tr>\n",
       "  </tbody>\n",
       "</table>\n",
       "</div>"
      ],
      "text/plain": [
       "                                                Text language  \\\n",
       "0  in the mid-s the school district was sued for ...  English   \n",
       "1  in  tom hamilton also began playing with joe r...  English   \n",
       "2  in the early s he evolved his psychedelic rock...  English   \n",
       "3   ağustos  tarihinde orta öğretim genel müdürlü...  Turkish   \n",
       "4  sharon isbin comenzó sus estudios a los nueve ...  Spanish   \n",
       "\n",
       "  predicted_language_code  \n",
       "0                      en  \n",
       "1                      en  \n",
       "2                      en  \n",
       "3                      tr  \n",
       "4                      es  "
      ]
     },
     "execution_count": 5,
     "metadata": {},
     "output_type": "execute_result"
    }
   ],
   "source": [
    "df['predicted_language_code'] = df['Text'].apply(detect_language)\n",
    "df.head()"
   ]
  },
  {
   "cell_type": "code",
   "execution_count": 6,
   "id": "a4611640",
   "metadata": {},
   "outputs": [
    {
     "data": {
      "text/plain": [
       "en    229\n",
       "pt    203\n",
       "es    196\n",
       "tr    182\n",
       "et    182\n",
       "nl      2\n",
       "de      2\n",
       "ru      1\n",
       "sl      1\n",
       "it      1\n",
       "fr      1\n",
       "Name: predicted_language_code, dtype: int64"
      ]
     },
     "execution_count": 6,
     "metadata": {},
     "output_type": "execute_result"
    }
   ],
   "source": [
    "df['predicted_language_code'].value_counts()\n",
    "# en - English\n",
    "# pt - Portuguese\n",
    "# es - Spanish\n",
    "# tr - Turkish\n",
    "# et - Estonian\n",
    "# nl - Dutch\n",
    "# de - German\n",
    "# ru - Russian\n",
    "# sl - Slovenian\n",
    "# it - Italian\n",
    "# fr - French"
   ]
  },
  {
   "cell_type": "markdown",
   "id": "2c5b6f69",
   "metadata": {},
   "source": [
    "As can be seen from the results some text was classified as written in a language which did not appear in a chosen sample (Dutch, German, Russian, Slovenian, Italian and French). This happened due to the fact that Langdetect searches through all languages that it is pretrained on and lacks functionality of declaring the list of possible languages of given text."
   ]
  },
  {
   "cell_type": "code",
   "execution_count": null,
   "id": "d34ac602",
   "metadata": {},
   "outputs": [],
   "source": [
    "def ISO_to_lang(lang_code):\n",
    "    \"\"\"\n",
    "    Function converts language ISO 639-1 code to language name\n",
    "    Languages that did not appear as class labels in the used sample are grouped as 'Other'\n",
    "    \"\"\"\n",
    "    if lang_code == 'en':\n",
    "        return 'English'\n",
    "    elif lang_code == 'pt':\n",
    "        return 'Portugese'\n",
    "    elif lang_code == 'es':\n",
    "        return 'Spanish'\n",
    "    elif lang_code == 'tr':\n",
    "        return 'Turkish'\n",
    "    elif lang_code == 'et':\n",
    "        return 'Estonian'\n",
    "    else:\n",
    "        return 'Other'"
   ]
  },
  {
   "cell_type": "code",
   "execution_count": 8,
   "id": "4ac1219a",
   "metadata": {},
   "outputs": [
    {
     "data": {
      "text/html": [
       "<div>\n",
       "<style scoped>\n",
       "    .dataframe tbody tr th:only-of-type {\n",
       "        vertical-align: middle;\n",
       "    }\n",
       "\n",
       "    .dataframe tbody tr th {\n",
       "        vertical-align: top;\n",
       "    }\n",
       "\n",
       "    .dataframe thead th {\n",
       "        text-align: right;\n",
       "    }\n",
       "</style>\n",
       "<table border=\"1\" class=\"dataframe\">\n",
       "  <thead>\n",
       "    <tr style=\"text-align: right;\">\n",
       "      <th></th>\n",
       "      <th>Text</th>\n",
       "      <th>language</th>\n",
       "      <th>predicted_language_code</th>\n",
       "      <th>predicted_language</th>\n",
       "    </tr>\n",
       "  </thead>\n",
       "  <tbody>\n",
       "    <tr>\n",
       "      <th>0</th>\n",
       "      <td>in the mid-s the school district was sued for ...</td>\n",
       "      <td>English</td>\n",
       "      <td>en</td>\n",
       "      <td>English</td>\n",
       "    </tr>\n",
       "    <tr>\n",
       "      <th>1</th>\n",
       "      <td>in  tom hamilton also began playing with joe r...</td>\n",
       "      <td>English</td>\n",
       "      <td>en</td>\n",
       "      <td>English</td>\n",
       "    </tr>\n",
       "    <tr>\n",
       "      <th>2</th>\n",
       "      <td>in the early s he evolved his psychedelic rock...</td>\n",
       "      <td>English</td>\n",
       "      <td>en</td>\n",
       "      <td>English</td>\n",
       "    </tr>\n",
       "    <tr>\n",
       "      <th>3</th>\n",
       "      <td>ağustos  tarihinde orta öğretim genel müdürlü...</td>\n",
       "      <td>Turkish</td>\n",
       "      <td>tr</td>\n",
       "      <td>Turkish</td>\n",
       "    </tr>\n",
       "    <tr>\n",
       "      <th>4</th>\n",
       "      <td>sharon isbin comenzó sus estudios a los nueve ...</td>\n",
       "      <td>Spanish</td>\n",
       "      <td>es</td>\n",
       "      <td>Spanish</td>\n",
       "    </tr>\n",
       "  </tbody>\n",
       "</table>\n",
       "</div>"
      ],
      "text/plain": [
       "                                                Text language  \\\n",
       "0  in the mid-s the school district was sued for ...  English   \n",
       "1  in  tom hamilton also began playing with joe r...  English   \n",
       "2  in the early s he evolved his psychedelic rock...  English   \n",
       "3   ağustos  tarihinde orta öğretim genel müdürlü...  Turkish   \n",
       "4  sharon isbin comenzó sus estudios a los nueve ...  Spanish   \n",
       "\n",
       "  predicted_language_code predicted_language  \n",
       "0                      en            English  \n",
       "1                      en            English  \n",
       "2                      en            English  \n",
       "3                      tr            Turkish  \n",
       "4                      es            Spanish  "
      ]
     },
     "execution_count": 8,
     "metadata": {},
     "output_type": "execute_result"
    }
   ],
   "source": [
    "df['predicted_language'] = df['predicted_language_code'].apply(ISO_to_lang)\n",
    "df.head()"
   ]
  },
  {
   "cell_type": "code",
   "execution_count": 9,
   "id": "4a9f435b",
   "metadata": {},
   "outputs": [
    {
     "data": {
      "text/html": [
       "<div>\n",
       "<style scoped>\n",
       "    .dataframe tbody tr th:only-of-type {\n",
       "        vertical-align: middle;\n",
       "    }\n",
       "\n",
       "    .dataframe tbody tr th {\n",
       "        vertical-align: top;\n",
       "    }\n",
       "\n",
       "    .dataframe thead th {\n",
       "        text-align: right;\n",
       "    }\n",
       "</style>\n",
       "<table border=\"1\" class=\"dataframe\">\n",
       "  <thead>\n",
       "    <tr style=\"text-align: right;\">\n",
       "      <th></th>\n",
       "      <th>Text</th>\n",
       "      <th>language</th>\n",
       "      <th>predicted_language_code</th>\n",
       "      <th>predicted_language</th>\n",
       "    </tr>\n",
       "  </thead>\n",
       "  <tbody>\n",
       "    <tr>\n",
       "      <th>41</th>\n",
       "      <td>heinrich johannes friedrich maria orsini und r...</td>\n",
       "      <td>Estonian</td>\n",
       "      <td>nl</td>\n",
       "      <td>Other</td>\n",
       "    </tr>\n",
       "    <tr>\n",
       "      <th>85</th>\n",
       "      <td>im medienwandel – cristoph schmidt – google-bo...</td>\n",
       "      <td>Estonian</td>\n",
       "      <td>de</td>\n",
       "      <td>Other</td>\n",
       "    </tr>\n",
       "    <tr>\n",
       "      <th>111</th>\n",
       "      <td>frenkel m november  \"[charles brenton huggins ...</td>\n",
       "      <td>Turkish</td>\n",
       "      <td>nl</td>\n",
       "      <td>Other</td>\n",
       "    </tr>\n",
       "    <tr>\n",
       "      <th>224</th>\n",
       "      <td>p k pandajev \"мракобесие для простаков или как...</td>\n",
       "      <td>Estonian</td>\n",
       "      <td>ru</td>\n",
       "      <td>Other</td>\n",
       "    </tr>\n",
       "    <tr>\n",
       "      <th>288</th>\n",
       "      <td>vun kozlov et al eds  nadzornye proizvodstva p...</td>\n",
       "      <td>Spanish</td>\n",
       "      <td>sl</td>\n",
       "      <td>Other</td>\n",
       "    </tr>\n",
       "    <tr>\n",
       "      <th>346</th>\n",
       "      <td>dissertatio epistolica de bombyce societati re...</td>\n",
       "      <td>Spanish</td>\n",
       "      <td>it</td>\n",
       "      <td>Other</td>\n",
       "    </tr>\n",
       "    <tr>\n",
       "      <th>528</th>\n",
       "      <td>lacordaire t  histoire naturelle des insectes ...</td>\n",
       "      <td>Spanish</td>\n",
       "      <td>fr</td>\n",
       "      <td>Other</td>\n",
       "    </tr>\n",
       "    <tr>\n",
       "      <th>632</th>\n",
       "      <td>schmähl d  \"[charles brenton huggins nobel pri...</td>\n",
       "      <td>Turkish</td>\n",
       "      <td>de</td>\n",
       "      <td>Other</td>\n",
       "    </tr>\n",
       "  </tbody>\n",
       "</table>\n",
       "</div>"
      ],
      "text/plain": [
       "                                                  Text  language  \\\n",
       "41   heinrich johannes friedrich maria orsini und r...  Estonian   \n",
       "85   im medienwandel – cristoph schmidt – google-bo...  Estonian   \n",
       "111  frenkel m november  \"[charles brenton huggins ...   Turkish   \n",
       "224  p k pandajev \"мракобесие для простаков или как...  Estonian   \n",
       "288  vun kozlov et al eds  nadzornye proizvodstva p...   Spanish   \n",
       "346  dissertatio epistolica de bombyce societati re...   Spanish   \n",
       "528  lacordaire t  histoire naturelle des insectes ...   Spanish   \n",
       "632  schmähl d  \"[charles brenton huggins nobel pri...   Turkish   \n",
       "\n",
       "    predicted_language_code predicted_language  \n",
       "41                       nl              Other  \n",
       "85                       de              Other  \n",
       "111                      nl              Other  \n",
       "224                      ru              Other  \n",
       "288                      sl              Other  \n",
       "346                      it              Other  \n",
       "528                      fr              Other  \n",
       "632                      de              Other  "
      ]
     },
     "execution_count": 9,
     "metadata": {},
     "output_type": "execute_result"
    }
   ],
   "source": [
    "df[df['predicted_language'] == 'Other']"
   ]
  },
  {
   "cell_type": "markdown",
   "id": "674f54c7",
   "metadata": {},
   "source": [
    "After further inspection of the text data it was noted that some entries had phrases written in another language than the one given in a class label, sometimes in the one that was found by Langdetect, but did not appear as a classlabel in the used dataset."
   ]
  },
  {
   "cell_type": "code",
   "execution_count": 10,
   "id": "b406e1e2",
   "metadata": {},
   "outputs": [
    {
     "name": "stdout",
     "output_type": "stream",
     "text": [
      "              precision    recall  f1-score   support\n",
      "\n",
      "     English       0.90      1.00      0.94       205\n",
      "    Estonian       1.00      0.95      0.97       192\n",
      "       Other       0.00      0.00      0.00         0\n",
      "   Portugese       1.00      0.94      0.97       214\n",
      "     Spanish       1.00      0.98      0.99       201\n",
      "     Turkish       1.00      0.97      0.98       188\n",
      "\n",
      "    accuracy                           0.97      1000\n",
      "   macro avg       0.82      0.81      0.81      1000\n",
      "weighted avg       0.98      0.97      0.97      1000\n",
      "\n"
     ]
    },
    {
     "name": "stderr",
     "output_type": "stream",
     "text": [
      "c:\\Users\\manta\\anaconda3\\Lib\\site-packages\\sklearn\\metrics\\_classification.py:1471: UndefinedMetricWarning: Recall and F-score are ill-defined and being set to 0.0 in labels with no true samples. Use `zero_division` parameter to control this behavior.\n",
      "  _warn_prf(average, modifier, msg_start, len(result))\n",
      "c:\\Users\\manta\\anaconda3\\Lib\\site-packages\\sklearn\\metrics\\_classification.py:1471: UndefinedMetricWarning: Recall and F-score are ill-defined and being set to 0.0 in labels with no true samples. Use `zero_division` parameter to control this behavior.\n",
      "  _warn_prf(average, modifier, msg_start, len(result))\n",
      "c:\\Users\\manta\\anaconda3\\Lib\\site-packages\\sklearn\\metrics\\_classification.py:1471: UndefinedMetricWarning: Recall and F-score are ill-defined and being set to 0.0 in labels with no true samples. Use `zero_division` parameter to control this behavior.\n",
      "  _warn_prf(average, modifier, msg_start, len(result))\n"
     ]
    }
   ],
   "source": [
    "from sklearn.metrics import classification_report\n",
    "\n",
    "print(classification_report(y_true=df['language'], y_pred=df['predicted_language']))"
   ]
  },
  {
   "cell_type": "markdown",
   "id": "4744f9df",
   "metadata": {},
   "source": [
    "Langdetect model performed very well as it classified 97 % of the text correctly."
   ]
  },
  {
   "cell_type": "code",
   "execution_count": 11,
   "id": "b2dcb58e",
   "metadata": {},
   "outputs": [],
   "source": [
    "import langid\n",
    "\n",
    "def detect_language_langid(text):\n",
    "    \"\"\"\n",
    "    Input: any text.\n",
    "    Output: predicted language of input text. Predictions are done using langdetect library.\n",
    "    \"\"\"\n",
    "    langid.set_languages(['en', 'et', 'es', 'pt', 'tr'])\n",
    "    try:\n",
    "        language, confidence = langid.classify(text)\n",
    "        return language\n",
    "    except Exception as e:\n",
    "        print(f'An error occured: {e}')\n",
    "        return None"
   ]
  },
  {
   "cell_type": "markdown",
   "id": "dd2b217c",
   "metadata": {},
   "source": [
    "LangID has a functionality to predefine a list of possible languages. Thus the model will not output languages that did not appear as class labels in the sample data."
   ]
  },
  {
   "cell_type": "code",
   "execution_count": 12,
   "id": "c345a7d3",
   "metadata": {},
   "outputs": [
    {
     "data": {
      "text/html": [
       "<div>\n",
       "<style scoped>\n",
       "    .dataframe tbody tr th:only-of-type {\n",
       "        vertical-align: middle;\n",
       "    }\n",
       "\n",
       "    .dataframe tbody tr th {\n",
       "        vertical-align: top;\n",
       "    }\n",
       "\n",
       "    .dataframe thead th {\n",
       "        text-align: right;\n",
       "    }\n",
       "</style>\n",
       "<table border=\"1\" class=\"dataframe\">\n",
       "  <thead>\n",
       "    <tr style=\"text-align: right;\">\n",
       "      <th></th>\n",
       "      <th>Text</th>\n",
       "      <th>language</th>\n",
       "      <th>predicted_language_code</th>\n",
       "      <th>predicted_language</th>\n",
       "      <th>predicted_langid_code</th>\n",
       "    </tr>\n",
       "  </thead>\n",
       "  <tbody>\n",
       "    <tr>\n",
       "      <th>0</th>\n",
       "      <td>in the mid-s the school district was sued for ...</td>\n",
       "      <td>English</td>\n",
       "      <td>en</td>\n",
       "      <td>English</td>\n",
       "      <td>en</td>\n",
       "    </tr>\n",
       "    <tr>\n",
       "      <th>1</th>\n",
       "      <td>in  tom hamilton also began playing with joe r...</td>\n",
       "      <td>English</td>\n",
       "      <td>en</td>\n",
       "      <td>English</td>\n",
       "      <td>en</td>\n",
       "    </tr>\n",
       "    <tr>\n",
       "      <th>2</th>\n",
       "      <td>in the early s he evolved his psychedelic rock...</td>\n",
       "      <td>English</td>\n",
       "      <td>en</td>\n",
       "      <td>English</td>\n",
       "      <td>en</td>\n",
       "    </tr>\n",
       "    <tr>\n",
       "      <th>3</th>\n",
       "      <td>ağustos  tarihinde orta öğretim genel müdürlü...</td>\n",
       "      <td>Turkish</td>\n",
       "      <td>tr</td>\n",
       "      <td>Turkish</td>\n",
       "      <td>tr</td>\n",
       "    </tr>\n",
       "    <tr>\n",
       "      <th>4</th>\n",
       "      <td>sharon isbin comenzó sus estudios a los nueve ...</td>\n",
       "      <td>Spanish</td>\n",
       "      <td>es</td>\n",
       "      <td>Spanish</td>\n",
       "      <td>es</td>\n",
       "    </tr>\n",
       "  </tbody>\n",
       "</table>\n",
       "</div>"
      ],
      "text/plain": [
       "                                                Text language  \\\n",
       "0  in the mid-s the school district was sued for ...  English   \n",
       "1  in  tom hamilton also began playing with joe r...  English   \n",
       "2  in the early s he evolved his psychedelic rock...  English   \n",
       "3   ağustos  tarihinde orta öğretim genel müdürlü...  Turkish   \n",
       "4  sharon isbin comenzó sus estudios a los nueve ...  Spanish   \n",
       "\n",
       "  predicted_language_code predicted_language predicted_langid_code  \n",
       "0                      en            English                    en  \n",
       "1                      en            English                    en  \n",
       "2                      en            English                    en  \n",
       "3                      tr            Turkish                    tr  \n",
       "4                      es            Spanish                    es  "
      ]
     },
     "execution_count": 12,
     "metadata": {},
     "output_type": "execute_result"
    }
   ],
   "source": [
    "df['predicted_langid_code'] = df['Text'].apply(detect_language_langid)\n",
    "df.head()"
   ]
  },
  {
   "cell_type": "code",
   "execution_count": 13,
   "id": "41e4d7c5",
   "metadata": {},
   "outputs": [
    {
     "data": {
      "text/html": [
       "<div>\n",
       "<style scoped>\n",
       "    .dataframe tbody tr th:only-of-type {\n",
       "        vertical-align: middle;\n",
       "    }\n",
       "\n",
       "    .dataframe tbody tr th {\n",
       "        vertical-align: top;\n",
       "    }\n",
       "\n",
       "    .dataframe thead th {\n",
       "        text-align: right;\n",
       "    }\n",
       "</style>\n",
       "<table border=\"1\" class=\"dataframe\">\n",
       "  <thead>\n",
       "    <tr style=\"text-align: right;\">\n",
       "      <th></th>\n",
       "      <th>Text</th>\n",
       "      <th>language</th>\n",
       "      <th>predicted_language_code</th>\n",
       "      <th>predicted_language</th>\n",
       "      <th>predicted_langid_code</th>\n",
       "      <th>predicted_language_langid</th>\n",
       "    </tr>\n",
       "  </thead>\n",
       "  <tbody>\n",
       "    <tr>\n",
       "      <th>0</th>\n",
       "      <td>in the mid-s the school district was sued for ...</td>\n",
       "      <td>English</td>\n",
       "      <td>en</td>\n",
       "      <td>English</td>\n",
       "      <td>en</td>\n",
       "      <td>English</td>\n",
       "    </tr>\n",
       "    <tr>\n",
       "      <th>1</th>\n",
       "      <td>in  tom hamilton also began playing with joe r...</td>\n",
       "      <td>English</td>\n",
       "      <td>en</td>\n",
       "      <td>English</td>\n",
       "      <td>en</td>\n",
       "      <td>English</td>\n",
       "    </tr>\n",
       "    <tr>\n",
       "      <th>2</th>\n",
       "      <td>in the early s he evolved his psychedelic rock...</td>\n",
       "      <td>English</td>\n",
       "      <td>en</td>\n",
       "      <td>English</td>\n",
       "      <td>en</td>\n",
       "      <td>English</td>\n",
       "    </tr>\n",
       "    <tr>\n",
       "      <th>3</th>\n",
       "      <td>ağustos  tarihinde orta öğretim genel müdürlü...</td>\n",
       "      <td>Turkish</td>\n",
       "      <td>tr</td>\n",
       "      <td>Turkish</td>\n",
       "      <td>tr</td>\n",
       "      <td>Turkish</td>\n",
       "    </tr>\n",
       "    <tr>\n",
       "      <th>4</th>\n",
       "      <td>sharon isbin comenzó sus estudios a los nueve ...</td>\n",
       "      <td>Spanish</td>\n",
       "      <td>es</td>\n",
       "      <td>Spanish</td>\n",
       "      <td>es</td>\n",
       "      <td>Spanish</td>\n",
       "    </tr>\n",
       "  </tbody>\n",
       "</table>\n",
       "</div>"
      ],
      "text/plain": [
       "                                                Text language  \\\n",
       "0  in the mid-s the school district was sued for ...  English   \n",
       "1  in  tom hamilton also began playing with joe r...  English   \n",
       "2  in the early s he evolved his psychedelic rock...  English   \n",
       "3   ağustos  tarihinde orta öğretim genel müdürlü...  Turkish   \n",
       "4  sharon isbin comenzó sus estudios a los nueve ...  Spanish   \n",
       "\n",
       "  predicted_language_code predicted_language predicted_langid_code  \\\n",
       "0                      en            English                    en   \n",
       "1                      en            English                    en   \n",
       "2                      en            English                    en   \n",
       "3                      tr            Turkish                    tr   \n",
       "4                      es            Spanish                    es   \n",
       "\n",
       "  predicted_language_langid  \n",
       "0                   English  \n",
       "1                   English  \n",
       "2                   English  \n",
       "3                   Turkish  \n",
       "4                   Spanish  "
      ]
     },
     "execution_count": 13,
     "metadata": {},
     "output_type": "execute_result"
    }
   ],
   "source": [
    "df['predicted_language_langid'] = df['predicted_langid_code'].apply(ISO_to_lang)\n",
    "df.head()"
   ]
  },
  {
   "cell_type": "code",
   "execution_count": 14,
   "id": "f9cc2a3f",
   "metadata": {},
   "outputs": [
    {
     "name": "stdout",
     "output_type": "stream",
     "text": [
      "              precision    recall  f1-score   support\n",
      "\n",
      "     English       0.88      1.00      0.94       205\n",
      "    Estonian       1.00      0.94      0.97       192\n",
      "   Portugese       0.99      0.95      0.97       214\n",
      "     Spanish       0.99      0.98      0.99       201\n",
      "     Turkish       0.99      0.97      0.98       188\n",
      "\n",
      "    accuracy                           0.97      1000\n",
      "   macro avg       0.97      0.97      0.97      1000\n",
      "weighted avg       0.97      0.97      0.97      1000\n",
      "\n"
     ]
    }
   ],
   "source": [
    "print(classification_report(y_true=df['language'], y_pred=df['predicted_language_langid']))"
   ]
  },
  {
   "cell_type": "markdown",
   "id": "f654d8d9",
   "metadata": {},
   "source": [
    "LangID showed similar results to Langdetect as once again 97 % of the data was classified correctly."
   ]
  },
  {
   "cell_type": "code",
   "execution_count": 17,
   "id": "bc927f50",
   "metadata": {},
   "outputs": [],
   "source": [
    "from sklearn.metrics import confusion_matrix\n",
    "\n",
    "def plot_Confusion_Matrix(y_true, y_pred, labels, title, cmap):\n",
    "    cm = confusion_matrix(y_true, y_pred, labels=labels)\n",
    "    plt.figure(figsize=(8, 6))\n",
    "    sns.heatmap(cm, annot=True, fmt='d', cmap=cmap, \n",
    "    xticklabels=labels, yticklabels=labels)\n",
    "    plt.title(title)\n",
    "    plt.xlabel('Predicted')\n",
    "    plt.ylabel('True')\n",
    "    plt.show()"
   ]
  },
  {
   "cell_type": "code",
   "execution_count": null,
   "id": "c3aa583c",
   "metadata": {},
   "outputs": [
    {
     "data": {
      "image/png": "[encoded data removed]",
      "text/plain": [
       "<Figure size 800x600 with 2 Axes>"
      ]
     },
     "metadata": {},
     "output_type": "display_data"
    }
   ],
   "source": [
    "plot_Confusion_Matrix(df['language'], df['predicted_language'], labels=['Portugese', 'Turkish', 'Spanish', 'Estonian', 'English', 'Other'], \n",
    "                      cmap='Oranges', title = \"Confusion Matrix Using Langdetect\")"
   ]
  },
  {
   "cell_type": "markdown",
   "id": "5b8091d2",
   "metadata": {},
   "source": [
    "From the confusion matrix we can see that using Langdetect all of the entries written in English were classified correctly. Meanwhile the most common mistake was predicting English when the text was written in another language, especially Portuguese and Estonian."
   ]
  },
  {
   "cell_type": "code",
   "execution_count": 19,
   "id": "0192a09c",
   "metadata": {},
   "outputs": [
    {
     "data": {
      "image/png": "[encoded data removed]",
      "text/plain": [
       "<Figure size 800x600 with 2 Axes>"
      ]
     },
     "metadata": {},
     "output_type": "display_data"
    }
   ],
   "source": [
    "plot_Confusion_Matrix(df['language'], df['predicted_language_langid'], labels=['Portugese', 'Turkish', 'Spanish', 'Estonian', 'English'], \n",
    "                      cmap='Oranges', title = \"Confusion Matrix Using Langid\")"
   ]
  },
  {
   "cell_type": "markdown",
   "id": "af9a3cfe",
   "metadata": {},
   "source": [
    "Same tendencies appear in LangID. All English text was classified correctly, meanwhile the most common mistakes were classifyong Portuguese and Estonian texts as English."
   ]
  },
  {
   "cell_type": "markdown",
   "id": "fabb9618",
   "metadata": {},
   "source": [
    "## Conclusions\n",
    "\n",
    "- Pretrained language detection models in Langdetect and LangID packages perform extremelly well for predicting in what language the text is written. Both methods achieved 97 % accuracy for a given dataset.\n",
    "- LangID has an advantage that a set of possible languages can be predefined in the model.\n",
    "- All English text was classified correctly.\n",
    "- Most common mistakes were classifying text as English when it was written in another languages. This was most apparent for Portuguese and Estonian languages. However the number of mistakes made was still extremely low."
   ]
  }
 ],
 "metadata": {
  "kernelspec": {
   "display_name": "base",
   "language": "python",
   "name": "python3"
  },
  "language_info": {
   "codemirror_mode": {
    "name": "ipython",
    "version": 3
   },
   "file_extension": ".py",
   "mimetype": "text/x-python",
   "name": "python",
   "nbconvert_exporter": "python",
   "pygments_lexer": "ipython3",
   "version": "3.11.3"
  }
 },
 "nbformat": 4,
 "nbformat_minor": 5
}
